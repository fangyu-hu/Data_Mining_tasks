{
 "cells": [
  {
   "cell_type": "code",
   "execution_count": 1,
   "id": "4fce143e",
   "metadata": {},
   "outputs": [],
   "source": [
    "import pandas as pda\n",
    "fname=\"D:/python demo/lesson.csv\"\n",
    "dataf=pda.read_csv(fname,encoding=\"gbk\")\n"
   ]
  },
  {
   "cell_type": "code",
   "execution_count": 2,
   "id": "25682b6b",
   "metadata": {},
   "outputs": [
    {
     "data": {
      "text/html": [
       "<div>\n",
       "<style scoped>\n",
       "    .dataframe tbody tr th:only-of-type {\n",
       "        vertical-align: middle;\n",
       "    }\n",
       "\n",
       "    .dataframe tbody tr th {\n",
       "        vertical-align: top;\n",
       "    }\n",
       "\n",
       "    .dataframe thead th {\n",
       "        text-align: right;\n",
       "    }\n",
       "</style>\n",
       "<table border=\"1\" class=\"dataframe\">\n",
       "  <thead>\n",
       "    <tr style=\"text-align: right;\">\n",
       "      <th></th>\n",
       "      <th>序号</th>\n",
       "      <th>实战</th>\n",
       "      <th>课时数</th>\n",
       "      <th>是否促销</th>\n",
       "      <th>是否提供配套资料</th>\n",
       "      <th>销量</th>\n",
       "    </tr>\n",
       "  </thead>\n",
       "  <tbody>\n",
       "    <tr>\n",
       "      <th>0</th>\n",
       "      <td>1</td>\n",
       "      <td>是</td>\n",
       "      <td>多</td>\n",
       "      <td>是</td>\n",
       "      <td>否</td>\n",
       "      <td>高</td>\n",
       "    </tr>\n",
       "    <tr>\n",
       "      <th>1</th>\n",
       "      <td>2</td>\n",
       "      <td>否</td>\n",
       "      <td>少</td>\n",
       "      <td>是</td>\n",
       "      <td>是</td>\n",
       "      <td>低</td>\n",
       "    </tr>\n",
       "    <tr>\n",
       "      <th>2</th>\n",
       "      <td>3</td>\n",
       "      <td>是</td>\n",
       "      <td>少</td>\n",
       "      <td>是</td>\n",
       "      <td>否</td>\n",
       "      <td>低</td>\n",
       "    </tr>\n",
       "    <tr>\n",
       "      <th>3</th>\n",
       "      <td>4</td>\n",
       "      <td>是</td>\n",
       "      <td>多</td>\n",
       "      <td>否</td>\n",
       "      <td>否</td>\n",
       "      <td>低</td>\n",
       "    </tr>\n",
       "    <tr>\n",
       "      <th>4</th>\n",
       "      <td>5</td>\n",
       "      <td>是</td>\n",
       "      <td>少</td>\n",
       "      <td>否</td>\n",
       "      <td>是</td>\n",
       "      <td>高</td>\n",
       "    </tr>\n",
       "    <tr>\n",
       "      <th>5</th>\n",
       "      <td>6</td>\n",
       "      <td>是</td>\n",
       "      <td>多</td>\n",
       "      <td>是</td>\n",
       "      <td>是</td>\n",
       "      <td>高</td>\n",
       "    </tr>\n",
       "    <tr>\n",
       "      <th>6</th>\n",
       "      <td>7</td>\n",
       "      <td>否</td>\n",
       "      <td>多</td>\n",
       "      <td>是</td>\n",
       "      <td>否</td>\n",
       "      <td>低</td>\n",
       "    </tr>\n",
       "    <tr>\n",
       "      <th>7</th>\n",
       "      <td>8</td>\n",
       "      <td>否</td>\n",
       "      <td>少</td>\n",
       "      <td>是</td>\n",
       "      <td>是</td>\n",
       "      <td>高</td>\n",
       "    </tr>\n",
       "    <tr>\n",
       "      <th>8</th>\n",
       "      <td>9</td>\n",
       "      <td>是</td>\n",
       "      <td>多</td>\n",
       "      <td>是</td>\n",
       "      <td>否</td>\n",
       "      <td>高</td>\n",
       "    </tr>\n",
       "    <tr>\n",
       "      <th>9</th>\n",
       "      <td>10</td>\n",
       "      <td>否</td>\n",
       "      <td>少</td>\n",
       "      <td>否</td>\n",
       "      <td>否</td>\n",
       "      <td>低</td>\n",
       "    </tr>\n",
       "    <tr>\n",
       "      <th>10</th>\n",
       "      <td>11</td>\n",
       "      <td>是</td>\n",
       "      <td>少</td>\n",
       "      <td>否</td>\n",
       "      <td>否</td>\n",
       "      <td>高</td>\n",
       "    </tr>\n",
       "    <tr>\n",
       "      <th>11</th>\n",
       "      <td>12</td>\n",
       "      <td>否</td>\n",
       "      <td>多</td>\n",
       "      <td>是</td>\n",
       "      <td>否</td>\n",
       "      <td>低</td>\n",
       "    </tr>\n",
       "    <tr>\n",
       "      <th>12</th>\n",
       "      <td>13</td>\n",
       "      <td>是</td>\n",
       "      <td>少</td>\n",
       "      <td>否</td>\n",
       "      <td>是</td>\n",
       "      <td>高</td>\n",
       "    </tr>\n",
       "    <tr>\n",
       "      <th>13</th>\n",
       "      <td>14</td>\n",
       "      <td>是</td>\n",
       "      <td>多</td>\n",
       "      <td>否</td>\n",
       "      <td>是</td>\n",
       "      <td>高</td>\n",
       "    </tr>\n",
       "    <tr>\n",
       "      <th>14</th>\n",
       "      <td>15</td>\n",
       "      <td>否</td>\n",
       "      <td>少</td>\n",
       "      <td>是</td>\n",
       "      <td>是</td>\n",
       "      <td>低</td>\n",
       "    </tr>\n",
       "    <tr>\n",
       "      <th>15</th>\n",
       "      <td>16</td>\n",
       "      <td>是</td>\n",
       "      <td>多</td>\n",
       "      <td>否</td>\n",
       "      <td>否</td>\n",
       "      <td>低</td>\n",
       "    </tr>\n",
       "    <tr>\n",
       "      <th>16</th>\n",
       "      <td>17</td>\n",
       "      <td>是</td>\n",
       "      <td>多</td>\n",
       "      <td>否</td>\n",
       "      <td>否</td>\n",
       "      <td>低</td>\n",
       "    </tr>\n",
       "    <tr>\n",
       "      <th>17</th>\n",
       "      <td>18</td>\n",
       "      <td>是</td>\n",
       "      <td>多</td>\n",
       "      <td>否</td>\n",
       "      <td>是</td>\n",
       "      <td>高</td>\n",
       "    </tr>\n",
       "    <tr>\n",
       "      <th>18</th>\n",
       "      <td>19</td>\n",
       "      <td>否</td>\n",
       "      <td>多</td>\n",
       "      <td>是</td>\n",
       "      <td>否</td>\n",
       "      <td>高</td>\n",
       "    </tr>\n",
       "    <tr>\n",
       "      <th>19</th>\n",
       "      <td>20</td>\n",
       "      <td>是</td>\n",
       "      <td>少</td>\n",
       "      <td>否</td>\n",
       "      <td>是</td>\n",
       "      <td>低</td>\n",
       "    </tr>\n",
       "    <tr>\n",
       "      <th>20</th>\n",
       "      <td>21</td>\n",
       "      <td>是</td>\n",
       "      <td>多</td>\n",
       "      <td>否</td>\n",
       "      <td>否</td>\n",
       "      <td>高</td>\n",
       "    </tr>\n",
       "    <tr>\n",
       "      <th>21</th>\n",
       "      <td>22</td>\n",
       "      <td>否</td>\n",
       "      <td>少</td>\n",
       "      <td>是</td>\n",
       "      <td>是</td>\n",
       "      <td>低</td>\n",
       "    </tr>\n",
       "    <tr>\n",
       "      <th>22</th>\n",
       "      <td>23</td>\n",
       "      <td>否</td>\n",
       "      <td>少</td>\n",
       "      <td>否</td>\n",
       "      <td>否</td>\n",
       "      <td>低</td>\n",
       "    </tr>\n",
       "    <tr>\n",
       "      <th>23</th>\n",
       "      <td>24</td>\n",
       "      <td>否</td>\n",
       "      <td>多</td>\n",
       "      <td>是</td>\n",
       "      <td>是</td>\n",
       "      <td>高</td>\n",
       "    </tr>\n",
       "    <tr>\n",
       "      <th>24</th>\n",
       "      <td>25</td>\n",
       "      <td>是</td>\n",
       "      <td>少</td>\n",
       "      <td>否</td>\n",
       "      <td>是</td>\n",
       "      <td>高</td>\n",
       "    </tr>\n",
       "    <tr>\n",
       "      <th>25</th>\n",
       "      <td>26</td>\n",
       "      <td>是</td>\n",
       "      <td>多</td>\n",
       "      <td>否</td>\n",
       "      <td>否</td>\n",
       "      <td>低</td>\n",
       "    </tr>\n",
       "    <tr>\n",
       "      <th>26</th>\n",
       "      <td>27</td>\n",
       "      <td>是</td>\n",
       "      <td>多</td>\n",
       "      <td>是</td>\n",
       "      <td>是</td>\n",
       "      <td>高</td>\n",
       "    </tr>\n",
       "    <tr>\n",
       "      <th>27</th>\n",
       "      <td>28</td>\n",
       "      <td>否</td>\n",
       "      <td>少</td>\n",
       "      <td>否</td>\n",
       "      <td>否</td>\n",
       "      <td>低</td>\n",
       "    </tr>\n",
       "    <tr>\n",
       "      <th>28</th>\n",
       "      <td>29</td>\n",
       "      <td>是</td>\n",
       "      <td>少</td>\n",
       "      <td>是</td>\n",
       "      <td>是</td>\n",
       "      <td>高</td>\n",
       "    </tr>\n",
       "  </tbody>\n",
       "</table>\n",
       "</div>"
      ],
      "text/plain": [
       "    序号 实战 课时数 是否促销 是否提供配套资料 销量\n",
       "0    1  是   多    是        否  高\n",
       "1    2  否   少    是        是  低\n",
       "2    3  是   少    是        否  低\n",
       "3    4  是   多    否        否  低\n",
       "4    5  是   少    否        是  高\n",
       "5    6  是   多    是        是  高\n",
       "6    7  否   多    是        否  低\n",
       "7    8  否   少    是        是  高\n",
       "8    9  是   多    是        否  高\n",
       "9   10  否   少    否        否  低\n",
       "10  11  是   少    否        否  高\n",
       "11  12  否   多    是        否  低\n",
       "12  13  是   少    否        是  高\n",
       "13  14  是   多    否        是  高\n",
       "14  15  否   少    是        是  低\n",
       "15  16  是   多    否        否  低\n",
       "16  17  是   多    否        否  低\n",
       "17  18  是   多    否        是  高\n",
       "18  19  否   多    是        否  高\n",
       "19  20  是   少    否        是  低\n",
       "20  21  是   多    否        否  高\n",
       "21  22  否   少    是        是  低\n",
       "22  23  否   少    否        否  低\n",
       "23  24  否   多    是        是  高\n",
       "24  25  是   少    否        是  高\n",
       "25  26  是   多    否        否  低\n",
       "26  27  是   多    是        是  高\n",
       "27  28  否   少    否        否  低\n",
       "28  29  是   少    是        是  高"
      ]
     },
     "execution_count": 2,
     "metadata": {},
     "output_type": "execute_result"
    }
   ],
   "source": [
    "dataf"
   ]
  },
  {
   "cell_type": "code",
   "execution_count": 3,
   "id": "16e22204",
   "metadata": {},
   "outputs": [
    {
     "data": {
      "text/plain": [
       "pandas.core.frame.DataFrame"
      ]
     },
     "execution_count": 3,
     "metadata": {},
     "output_type": "execute_result"
    }
   ],
   "source": [
    "type(dataf)"
   ]
  },
  {
   "cell_type": "code",
   "execution_count": 4,
   "id": "8b9070a0",
   "metadata": {},
   "outputs": [],
   "source": [
    "\n",
    "x=dataf.iloc[:,1:5].values\n",
    "y=dataf.iloc[:,5].values\n"
   ]
  },
  {
   "cell_type": "code",
   "execution_count": 5,
   "id": "e7ce24cf",
   "metadata": {},
   "outputs": [
    {
     "data": {
      "text/plain": [
       "array([['是', '多', '是', '否'],\n",
       "       ['否', '少', '是', '是'],\n",
       "       ['是', '少', '是', '否'],\n",
       "       ['是', '多', '否', '否'],\n",
       "       ['是', '少', '否', '是'],\n",
       "       ['是', '多', '是', '是'],\n",
       "       ['否', '多', '是', '否'],\n",
       "       ['否', '少', '是', '是'],\n",
       "       ['是', '多', '是', '否'],\n",
       "       ['否', '少', '否', '否'],\n",
       "       ['是', '少', '否', '否'],\n",
       "       ['否', '多', '是', '否'],\n",
       "       ['是', '少', '否', '是'],\n",
       "       ['是', '多', '否', '是'],\n",
       "       ['否', '少', '是', '是'],\n",
       "       ['是', '多', '否', '否'],\n",
       "       ['是', '多', '否', '否'],\n",
       "       ['是', '多', '否', '是'],\n",
       "       ['否', '多', '是', '否'],\n",
       "       ['是', '少', '否', '是'],\n",
       "       ['是', '多', '否', '否'],\n",
       "       ['否', '少', '是', '是'],\n",
       "       ['否', '少', '否', '否'],\n",
       "       ['否', '多', '是', '是'],\n",
       "       ['是', '少', '否', '是'],\n",
       "       ['是', '多', '否', '否'],\n",
       "       ['是', '多', '是', '是'],\n",
       "       ['否', '少', '否', '否'],\n",
       "       ['是', '少', '是', '是']], dtype=object)"
      ]
     },
     "execution_count": 5,
     "metadata": {},
     "output_type": "execute_result"
    }
   ],
   "source": [
    "x"
   ]
  },
  {
   "cell_type": "code",
   "execution_count": 6,
   "id": "5c6b7d75",
   "metadata": {},
   "outputs": [
    {
     "data": {
      "text/plain": [
       "array(['高', '低', '低', '低', '高', '高', '低', '高', '高', '低', '高', '低', '高',\n",
       "       '高', '低', '低', '低', '高', '高', '低', '高', '低', '低', '高', '高', '低',\n",
       "       '高', '低', '高'], dtype=object)"
      ]
     },
     "execution_count": 6,
     "metadata": {},
     "output_type": "execute_result"
    }
   ],
   "source": [
    "y"
   ]
  },
  {
   "cell_type": "code",
   "execution_count": 9,
   "id": "f3b63461",
   "metadata": {},
   "outputs": [
    {
     "data": {
      "text/plain": [
       "numpy.ndarray"
      ]
     },
     "execution_count": 9,
     "metadata": {},
     "output_type": "execute_result"
    }
   ],
   "source": [
    "type(y)"
   ]
  },
  {
   "cell_type": "code",
   "execution_count": 10,
   "id": "0008e576",
   "metadata": {},
   "outputs": [],
   "source": [
    "for i in range(0,len(x)):\n",
    "    for j in range(0,len(x[i])):\n",
    "        thisdata=x[i][j]\n",
    "        if(thisdata==\"是\" or thisdata==\"多\" or thisdata==\"高\"):\n",
    "            x[i][j]=int(1)\n",
    "        else:\n",
    "            x[i][j]=int(-1)\n",
    "for i in range(0,len(y)):\n",
    "    thisdata=y[i]\n",
    "    if(thisdata==\"高\"):\n",
    "        y[i]=1\n",
    "    else:\n",
    "        y[i]=-1\n"
   ]
  },
  {
   "cell_type": "code",
   "execution_count": 11,
   "id": "3c91f47f",
   "metadata": {},
   "outputs": [
    {
     "data": {
      "text/plain": [
       "array([[1, 1, 1, -1],\n",
       "       [-1, -1, 1, 1],\n",
       "       [1, -1, 1, -1],\n",
       "       [1, 1, -1, -1],\n",
       "       [1, -1, -1, 1],\n",
       "       [1, 1, 1, 1],\n",
       "       [-1, 1, 1, -1],\n",
       "       [-1, -1, 1, 1],\n",
       "       [1, 1, 1, -1],\n",
       "       [-1, -1, -1, -1],\n",
       "       [1, -1, -1, -1],\n",
       "       [-1, 1, 1, -1],\n",
       "       [1, -1, -1, 1],\n",
       "       [1, 1, -1, 1],\n",
       "       [-1, -1, 1, 1],\n",
       "       [1, 1, -1, -1],\n",
       "       [1, 1, -1, -1],\n",
       "       [1, 1, -1, 1],\n",
       "       [-1, 1, 1, -1],\n",
       "       [1, -1, -1, 1],\n",
       "       [1, 1, -1, -1],\n",
       "       [-1, -1, 1, 1],\n",
       "       [-1, -1, -1, -1],\n",
       "       [-1, 1, 1, 1],\n",
       "       [1, -1, -1, 1],\n",
       "       [1, 1, -1, -1],\n",
       "       [1, 1, 1, 1],\n",
       "       [-1, -1, -1, -1],\n",
       "       [1, -1, 1, 1]], dtype=object)"
      ]
     },
     "execution_count": 11,
     "metadata": {},
     "output_type": "execute_result"
    }
   ],
   "source": [
    "x"
   ]
  },
  {
   "cell_type": "code",
   "execution_count": 12,
   "id": "605f13bc",
   "metadata": {},
   "outputs": [
    {
     "data": {
      "text/plain": [
       "array([1, -1, -1, -1, 1, 1, -1, 1, 1, -1, 1, -1, 1, 1, -1, -1, -1, 1, 1,\n",
       "       -1, 1, -1, -1, 1, 1, -1, 1, -1, 1], dtype=object)"
      ]
     },
     "execution_count": 12,
     "metadata": {},
     "output_type": "execute_result"
    }
   ],
   "source": [
    "y"
   ]
  },
  {
   "cell_type": "code",
   "execution_count": 13,
   "id": "c8b02014",
   "metadata": {},
   "outputs": [],
   "source": [
    "#容易出错的地方，需要进行格式转化\n",
    "xf=pda.DataFrame(x)\n",
    "yf=pda.DataFrame(y)\n",
    "x2=xf.values.astype(int)\n",
    "y2=yf.values.astype(int)\n"
   ]
  },
  {
   "cell_type": "code",
   "execution_count": 14,
   "id": "10edf613",
   "metadata": {},
   "outputs": [
    {
     "data": {
      "text/plain": [
       "DecisionTreeClassifier(criterion='entropy')"
      ]
     },
     "execution_count": 14,
     "metadata": {},
     "output_type": "execute_result"
    }
   ],
   "source": [
    "#建立决策树\n",
    "from sklearn.tree import DecisionTreeClassifier as DTC\n",
    "dtc=DTC(criterion=\"entropy\")\n",
    "dtc.fit(x2,y2)\n",
    "\n"
   ]
  },
  {
   "cell_type": "code",
   "execution_count": 16,
   "id": "da073aed",
   "metadata": {},
   "outputs": [
    {
     "data": {
      "text/plain": [
       "0.8620689655172413"
      ]
     },
     "execution_count": 16,
     "metadata": {},
     "output_type": "execute_result"
    }
   ],
   "source": [
    "dtc.score(x2,y2)"
   ]
  },
  {
   "cell_type": "code",
   "execution_count": 15,
   "id": "54dadc1d",
   "metadata": {},
   "outputs": [
    {
     "name": "stdout",
     "output_type": "stream",
     "text": [
      "[ 1  1 -1]\n"
     ]
    }
   ],
   "source": [
    "#直接预测销量高低\n",
    "import numpy as npy\n",
    "x3=npy.array([[1,-1,-1,1],[1,1,1,1],[-1,1,-1,1]])\n",
    "rst=dtc.predict(x3)\n",
    "print(rst)"
   ]
  },
  {
   "cell_type": "code",
   "execution_count": 17,
   "id": "27f0cb56",
   "metadata": {},
   "outputs": [],
   "source": [
    "\n",
    "from sklearn.tree import export_graphviz\n",
    "from six import StringIO\n",
    "with open(\"D:/tree.dot\",\"w\") as file:\n",
    "    file=export_graphviz(dtc,feature_names=[\"combat\",\"num\",\"promotion\",\"data\"],out_file=file)\n"
   ]
  },
  {
   "cell_type": "code",
   "execution_count": 26,
   "id": "cf87d22a",
   "metadata": {},
   "outputs": [
    {
     "data": {
      "text/plain": [
       "True"
      ]
     },
     "execution_count": 26,
     "metadata": {},
     "output_type": "execute_result"
    }
   ],
   "source": [
    "import pydotplus\n",
    "from sklearn.tree import export_graphviz\n",
    "dot_data=export_graphviz(dtc,out_file=None,feature_names=[\"combat\",\"num\",\"promotion\",\"data\"],filled=True,impurity=False)\n",
    "graph = pydotplus.graph_from_dot_data(dot_data)\n",
    "graph.write_png(\"D:/python demo/tree.png\")"
   ]
  },
  {
   "cell_type": "code",
   "execution_count": null,
   "id": "82453ee7",
   "metadata": {},
   "outputs": [],
   "source": []
  }
 ],
 "metadata": {
  "kernelspec": {
   "display_name": "Python 3",
   "language": "python",
   "name": "python3"
  },
  "language_info": {
   "codemirror_mode": {
    "name": "ipython",
    "version": 3
   },
   "file_extension": ".py",
   "mimetype": "text/x-python",
   "name": "python",
   "nbconvert_exporter": "python",
   "pygments_lexer": "ipython3",
   "version": "3.8.8"
  }
 },
 "nbformat": 4,
 "nbformat_minor": 5
}
