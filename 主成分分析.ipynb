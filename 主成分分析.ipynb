{
 "cells": [
  {
   "cell_type": "code",
   "execution_count": 1,
   "id": "21e448fd",
   "metadata": {},
   "outputs": [
    {
     "name": "stdout",
     "output_type": "stream",
     "text": [
      "    编号   地区  人均GDP(元)  财政收入（万元）  固定资产投资（亿元）  年末总人口（万人）  居民消费水平（元/人）  \\\n",
      "0    1   北京     50467  11171514      3296.4       1581        16770   \n",
      "1    2   天津     41163   4170479      1820.5       1075        10564   \n",
      "2    3   河北     16962   6205340      5470.2       6898         4945   \n",
      "3    4   山西     14123   5833752      2255.7       3375         4843   \n",
      "4    5  内蒙古     20053   3433774      3363.2       2397         5800   \n",
      "5    6   辽宁     21788   8176718      5689.6       4271         6929   \n",
      "6    7   吉林     15720   2452045      2594.3       2723         5710   \n",
      "7    8  黑龙江     16195   3868440      2236.0       3823         5141   \n",
      "8    9   上海     57695  15760742      3900.0       1815        20944   \n",
      "9   10   江苏     28814  16566820     10069.2       7550         8302   \n",
      "10  11   浙江     31874  12982044      7590.2       4980        11161   \n",
      "11  12   安徽     10055   4280265      3533.6       6110         4441   \n",
      "12  13   福建     21471   5411707      2981.8       3558         7826   \n",
      "13  14   江西     10796   3055214      2683.6       4339         4173   \n",
      "14  15   山东     23794  13562526     11111.4       9309         7025   \n",
      "15  16   河南     13313   6791715      5904.7       9392         4632   \n",
      "16  17   湖北     13296   4760823      3343.5       5693         5533   \n",
      "17  18   湖南     11950   4779274      3175.5       6342         5498   \n",
      "18  19   广东     28332  21794608      7973.4       9304        10829   \n",
      "19  20   广西     10296   3425788      2196.7       4719         4330   \n",
      "20  21   海南     12654    818139       423.9        836         4736   \n",
      "21  22   重庆     12457   3177165      2407.4       2808         5417   \n",
      "22  23   四川     10546   6075850      4412.9       8169         4501   \n",
      "23  24   贵州      5787   2268157      1197.4       3757         3499   \n",
      "24  25   云南      8970   3799702      2208.6       4483         4075   \n",
      "25  26   西藏     10430    145607       231.1        281         2915   \n",
      "26  27   陕西     12138   3624805      2480.7       3735         3972   \n",
      "27  28   甘肃      8757   1412152      1022.6       2606         3810   \n",
      "28  29   青海     11762    422437       408.5        548         4229   \n",
      "29  30   宁夏     11847    613570       498.7        604         5112   \n",
      "30  31   新疆     15000   2194628      1567.1       2050         4206   \n",
      "\n",
      "    社会消费品零售总额（亿元）  \n",
      "0          3275.2  \n",
      "1          1356.8  \n",
      "2          3397.4  \n",
      "3          1613.4  \n",
      "4          1595.3  \n",
      "5          3434.6  \n",
      "6          1675.8  \n",
      "7          1997.7  \n",
      "8          3360.4  \n",
      "9          6623.2  \n",
      "10         5325.3  \n",
      "11         2029.4  \n",
      "12         2704.2  \n",
      "13         1428.0  \n",
      "14         7122.5  \n",
      "15         3880.5  \n",
      "16         3412.0  \n",
      "17         2834.2  \n",
      "18         9118.1  \n",
      "19         1600.8  \n",
      "20          308.3  \n",
      "21         1403.6  \n",
      "22         3421.6  \n",
      "23          689.8  \n",
      "24         1188.9  \n",
      "25           89.7  \n",
      "26         1522.0  \n",
      "27          717.5  \n",
      "28          180.1  \n",
      "29          199.0  \n",
      "30          727.6  \n"
     ]
    }
   ],
   "source": [
    "import pandas as pda\n",
    "import numpy as npy\n",
    "import matplotlib.pylab as pyl\n",
    "data=pda.read_excel(\"D:/python demo/城市竞争力.xls\")\n",
    "print(data)\n"
   ]
  },
  {
   "cell_type": "code",
   "execution_count": 2,
   "id": "56635faf",
   "metadata": {},
   "outputs": [
    {
     "name": "stdout",
     "output_type": "stream",
     "text": [
      "    人均GDP(元)  财政收入（万元）  固定资产投资（亿元）  年末总人口（万人）  居民消费水平（元/人）  社会消费品零售总额（亿元）\n",
      "0      50467  11171514      3296.4       1581        16770         3275.2\n",
      "1      41163   4170479      1820.5       1075        10564         1356.8\n",
      "2      16962   6205340      5470.2       6898         4945         3397.4\n",
      "3      14123   5833752      2255.7       3375         4843         1613.4\n",
      "4      20053   3433774      3363.2       2397         5800         1595.3\n",
      "5      21788   8176718      5689.6       4271         6929         3434.6\n",
      "6      15720   2452045      2594.3       2723         5710         1675.8\n",
      "7      16195   3868440      2236.0       3823         5141         1997.7\n",
      "8      57695  15760742      3900.0       1815        20944         3360.4\n",
      "9      28814  16566820     10069.2       7550         8302         6623.2\n",
      "10     31874  12982044      7590.2       4980        11161         5325.3\n",
      "11     10055   4280265      3533.6       6110         4441         2029.4\n",
      "12     21471   5411707      2981.8       3558         7826         2704.2\n",
      "13     10796   3055214      2683.6       4339         4173         1428.0\n",
      "14     23794  13562526     11111.4       9309         7025         7122.5\n",
      "15     13313   6791715      5904.7       9392         4632         3880.5\n",
      "16     13296   4760823      3343.5       5693         5533         3412.0\n",
      "17     11950   4779274      3175.5       6342         5498         2834.2\n",
      "18     28332  21794608      7973.4       9304        10829         9118.1\n",
      "19     10296   3425788      2196.7       4719         4330         1600.8\n",
      "20     12654    818139       423.9        836         4736          308.3\n",
      "21     12457   3177165      2407.4       2808         5417         1403.6\n",
      "22     10546   6075850      4412.9       8169         4501         3421.6\n",
      "23      5787   2268157      1197.4       3757         3499          689.8\n",
      "24      8970   3799702      2208.6       4483         4075         1188.9\n",
      "25     10430    145607       231.1        281         2915           89.7\n",
      "26     12138   3624805      2480.7       3735         3972         1522.0\n",
      "27      8757   1412152      1022.6       2606         3810          717.5\n",
      "28     11762    422437       408.5        548         4229          180.1\n",
      "29     11847    613570       498.7        604         5112          199.0\n",
      "30     15000   2194628      1567.1       2050         4206          727.6\n"
     ]
    }
   ],
   "source": [
    "\n",
    "data2=data.loc[:,[\"人均GDP(元)\",\"财政收入（万元）\",\"固定资产投资（亿元）\",\"年末总人口（万人）\",\"居民消费水平（元/人）\",\"社会消费品零售总额（亿元）\"]] \n",
    "print(data2)"
   ]
  },
  {
   "cell_type": "code",
   "execution_count": 3,
   "id": "e06aed2c",
   "metadata": {},
   "outputs": [
    {
     "data": {
      "text/html": [
       "<div>\n",
       "<style scoped>\n",
       "    .dataframe tbody tr th:only-of-type {\n",
       "        vertical-align: middle;\n",
       "    }\n",
       "\n",
       "    .dataframe tbody tr th {\n",
       "        vertical-align: top;\n",
       "    }\n",
       "\n",
       "    .dataframe thead th {\n",
       "        text-align: right;\n",
       "    }\n",
       "</style>\n",
       "<table border=\"1\" class=\"dataframe\">\n",
       "  <thead>\n",
       "    <tr style=\"text-align: right;\">\n",
       "      <th></th>\n",
       "      <th>人均GDP(元)</th>\n",
       "      <th>财政收入（万元）</th>\n",
       "      <th>固定资产投资（亿元）</th>\n",
       "      <th>年末总人口（万人）</th>\n",
       "      <th>居民消费水平（元/人）</th>\n",
       "      <th>社会消费品零售总额（亿元）</th>\n",
       "    </tr>\n",
       "  </thead>\n",
       "  <tbody>\n",
       "    <tr>\n",
       "      <th>人均GDP(元)</th>\n",
       "      <td>1.000000</td>\n",
       "      <td>0.669639</td>\n",
       "      <td>0.362257</td>\n",
       "      <td>-0.091281</td>\n",
       "      <td>0.966928</td>\n",
       "      <td>0.435846</td>\n",
       "    </tr>\n",
       "    <tr>\n",
       "      <th>财政收入（万元）</th>\n",
       "      <td>0.669639</td>\n",
       "      <td>1.000000</td>\n",
       "      <td>0.831775</td>\n",
       "      <td>0.559637</td>\n",
       "      <td>0.693323</td>\n",
       "      <td>0.923582</td>\n",
       "    </tr>\n",
       "    <tr>\n",
       "      <th>固定资产投资（亿元）</th>\n",
       "      <td>0.362257</td>\n",
       "      <td>0.831775</td>\n",
       "      <td>1.000000</td>\n",
       "      <td>0.783168</td>\n",
       "      <td>0.327146</td>\n",
       "      <td>0.931721</td>\n",
       "    </tr>\n",
       "    <tr>\n",
       "      <th>年末总人口（万人）</th>\n",
       "      <td>-0.091281</td>\n",
       "      <td>0.559637</td>\n",
       "      <td>0.783168</td>\n",
       "      <td>1.000000</td>\n",
       "      <td>-0.066384</td>\n",
       "      <td>0.771276</td>\n",
       "    </tr>\n",
       "    <tr>\n",
       "      <th>居民消费水平（元/人）</th>\n",
       "      <td>0.966928</td>\n",
       "      <td>0.693323</td>\n",
       "      <td>0.327146</td>\n",
       "      <td>-0.066384</td>\n",
       "      <td>1.000000</td>\n",
       "      <td>0.441962</td>\n",
       "    </tr>\n",
       "    <tr>\n",
       "      <th>社会消费品零售总额（亿元）</th>\n",
       "      <td>0.435846</td>\n",
       "      <td>0.923582</td>\n",
       "      <td>0.931721</td>\n",
       "      <td>0.771276</td>\n",
       "      <td>0.441962</td>\n",
       "      <td>1.000000</td>\n",
       "    </tr>\n",
       "  </tbody>\n",
       "</table>\n",
       "</div>"
      ],
      "text/plain": [
       "               人均GDP(元)  财政收入（万元）  固定资产投资（亿元）  年末总人口（万人）  居民消费水平（元/人）  \\\n",
       "人均GDP(元)       1.000000  0.669639    0.362257  -0.091281     0.966928   \n",
       "财政收入（万元）       0.669639  1.000000    0.831775   0.559637     0.693323   \n",
       "固定资产投资（亿元）     0.362257  0.831775    1.000000   0.783168     0.327146   \n",
       "年末总人口（万人）     -0.091281  0.559637    0.783168   1.000000    -0.066384   \n",
       "居民消费水平（元/人）    0.966928  0.693323    0.327146  -0.066384     1.000000   \n",
       "社会消费品零售总额（亿元）  0.435846  0.923582    0.931721   0.771276     0.441962   \n",
       "\n",
       "               社会消费品零售总额（亿元）  \n",
       "人均GDP(元)            0.435846  \n",
       "财政收入（万元）            0.923582  \n",
       "固定资产投资（亿元）          0.931721  \n",
       "年末总人口（万人）           0.771276  \n",
       "居民消费水平（元/人）         0.441962  \n",
       "社会消费品零售总额（亿元）       1.000000  "
      ]
     },
     "execution_count": 3,
     "metadata": {},
     "output_type": "execute_result"
    }
   ],
   "source": [
    "data2.corr()"
   ]
  },
  {
   "cell_type": "code",
   "execution_count": 23,
   "id": "b233af29",
   "metadata": {},
   "outputs": [
    {
     "data": {
      "text/plain": [
       "<AxesSubplot:>"
      ]
     },
     "execution_count": 23,
     "metadata": {},
     "output_type": "execute_result"
    },
    {
     "data": {
      "image/png": "[encoded data removed]",
      "text/plain": [
       "<Figure size 432x288 with 2 Axes>"
      ]
     },
     "metadata": {
      "needs_background": "light"
     },
     "output_type": "display_data"
    }
   ],
   "source": [
    "import warnings\n",
    "warnings.simplefilter(\"ignore\")\n",
    "from pylab import mpl\n",
    "mpl.rcParams['font.sans-serif'] = ['SimHei']\n",
    "\n",
    "import seaborn as sns\n",
    "sns.heatmap(data2.corr(),annot=True)"
   ]
  },
  {
   "cell_type": "code",
   "execution_count": null,
   "id": "bedff386",
   "metadata": {},
   "outputs": [],
   "source": [
    "#标准化\n",
    "data2[\"人均GDP(元)\"]=(data2[\"人均GDP(元)\"]-data2[\"人均GDP(元)\"].mean())/data2[\"人均GDP(元)\"].std()\n",
    "data2[\"财政收入（万元）\"]=(data2[\"财政收入（万元）\"]-data2[\"财政收入（万元）\"].mean())/data2[\"财政收入（万元）\"].std()\n",
    "data2[\"固定资产投资（亿元）\"]=(data2[\"固定资产投资（亿元）\"]-data2[\"固定资产投资（亿元）\"].mean())/data2[\"固定资产投资（亿元）\"].std()\n",
    "data2[\"年末总人口（万人）\"]=(data2[\"年末总人口（万人）\"]-data2[\"年末总人口（万人）\"].mean())/data2[\"年末总人口（万人）\"].std()\n",
    "data2[\"居民消费水平（元/人）\"]=(data2[\"居民消费水平（元/人）\"]-data2[\"居民消费水平（元/人）\"].mean())/data2[\"居民消费水平（元/人）\"].std()\n",
    "data2[\"社会消费品零售总额（亿元）\"]=(data2[\"社会消费品零售总额（亿元）\"]-data2[\"社会消费品零售总额（亿元）\"].mean())/data2[\"社会消费品零售总额（亿元）\"].std()"
   ]
  },
  {
   "cell_type": "code",
   "execution_count": 4,
   "id": "66d42f9f",
   "metadata": {},
   "outputs": [],
   "source": [
    "data2=(data2-data2.mean())/data2.std()"
   ]
  },
  {
   "cell_type": "code",
   "execution_count": 5,
   "id": "ac5c06b2",
   "metadata": {},
   "outputs": [
    {
     "data": {
      "text/html": [
       "<div>\n",
       "<style scoped>\n",
       "    .dataframe tbody tr th:only-of-type {\n",
       "        vertical-align: middle;\n",
       "    }\n",
       "\n",
       "    .dataframe tbody tr th {\n",
       "        vertical-align: top;\n",
       "    }\n",
       "\n",
       "    .dataframe thead th {\n",
       "        text-align: right;\n",
       "    }\n",
       "</style>\n",
       "<table border=\"1\" class=\"dataframe\">\n",
       "  <thead>\n",
       "    <tr style=\"text-align: right;\">\n",
       "      <th></th>\n",
       "      <th>人均GDP(元)</th>\n",
       "      <th>财政收入（万元）</th>\n",
       "      <th>固定资产投资（亿元）</th>\n",
       "      <th>年末总人口（万人）</th>\n",
       "      <th>居民消费水平（元/人）</th>\n",
       "      <th>社会消费品零售总额（亿元）</th>\n",
       "    </tr>\n",
       "  </thead>\n",
       "  <tbody>\n",
       "    <tr>\n",
       "      <th>count</th>\n",
       "      <td>3.100000e+01</td>\n",
       "      <td>3.100000e+01</td>\n",
       "      <td>3.100000e+01</td>\n",
       "      <td>3.100000e+01</td>\n",
       "      <td>3.100000e+01</td>\n",
       "      <td>3.100000e+01</td>\n",
       "    </tr>\n",
       "    <tr>\n",
       "      <th>mean</th>\n",
       "      <td>-3.581365e-17</td>\n",
       "      <td>-7.520866e-17</td>\n",
       "      <td>3.008346e-16</td>\n",
       "      <td>-1.611614e-16</td>\n",
       "      <td>-5.730183e-17</td>\n",
       "      <td>-4.440892e-16</td>\n",
       "    </tr>\n",
       "    <tr>\n",
       "      <th>std</th>\n",
       "      <td>1.000000e+00</td>\n",
       "      <td>1.000000e+00</td>\n",
       "      <td>1.000000e+00</td>\n",
       "      <td>1.000000e+00</td>\n",
       "      <td>1.000000e+00</td>\n",
       "      <td>1.000000e+00</td>\n",
       "    </tr>\n",
       "    <tr>\n",
       "      <th>min</th>\n",
       "      <td>-1.048728e+00</td>\n",
       "      <td>-1.093467e+00</td>\n",
       "      <td>-1.199902e+00</td>\n",
       "      <td>-1.446964e+00</td>\n",
       "      <td>-9.121818e-01</td>\n",
       "      <td>-1.136158e+00</td>\n",
       "    </tr>\n",
       "    <tr>\n",
       "      <th>25%</th>\n",
       "      <td>-6.013600e-01</td>\n",
       "      <td>-5.982598e-01</td>\n",
       "      <td>-5.445214e-01</td>\n",
       "      <td>-7.233918e-01</td>\n",
       "      <td>-5.661388e-01</td>\n",
       "      <td>-5.838667e-01</td>\n",
       "    </tr>\n",
       "    <tr>\n",
       "      <th>50%</th>\n",
       "      <td>-4.356744e-01</td>\n",
       "      <td>-3.292306e-01</td>\n",
       "      <td>-2.956428e-01</td>\n",
       "      <td>-1.521703e-01</td>\n",
       "      <td>-3.550132e-01</td>\n",
       "      <td>-3.957706e-01</td>\n",
       "    </tr>\n",
       "    <tr>\n",
       "      <th>75%</th>\n",
       "      <td>2.417714e-01</td>\n",
       "      <td>1.128157e-01</td>\n",
       "      <td>2.474103e-01</td>\n",
       "      <td>6.466457e-01</td>\n",
       "      <td>1.179587e-01</td>\n",
       "      <td>4.112758e-01</td>\n",
       "    </tr>\n",
       "    <tr>\n",
       "      <th>max</th>\n",
       "      <td>3.179596e+00</td>\n",
       "      <td>3.017212e+00</td>\n",
       "      <td>2.811763e+00</td>\n",
       "      <td>1.946840e+00</td>\n",
       "      <td>3.660049e+00</td>\n",
       "      <td>3.078278e+00</td>\n",
       "    </tr>\n",
       "  </tbody>\n",
       "</table>\n",
       "</div>"
      ],
      "text/plain": [
       "           人均GDP(元)      财政收入（万元）    固定资产投资（亿元）     年末总人口（万人）   居民消费水平（元/人）  \\\n",
       "count  3.100000e+01  3.100000e+01  3.100000e+01  3.100000e+01  3.100000e+01   \n",
       "mean  -3.581365e-17 -7.520866e-17  3.008346e-16 -1.611614e-16 -5.730183e-17   \n",
       "std    1.000000e+00  1.000000e+00  1.000000e+00  1.000000e+00  1.000000e+00   \n",
       "min   -1.048728e+00 -1.093467e+00 -1.199902e+00 -1.446964e+00 -9.121818e-01   \n",
       "25%   -6.013600e-01 -5.982598e-01 -5.445214e-01 -7.233918e-01 -5.661388e-01   \n",
       "50%   -4.356744e-01 -3.292306e-01 -2.956428e-01 -1.521703e-01 -3.550132e-01   \n",
       "75%    2.417714e-01  1.128157e-01  2.474103e-01  6.466457e-01  1.179587e-01   \n",
       "max    3.179596e+00  3.017212e+00  2.811763e+00  1.946840e+00  3.660049e+00   \n",
       "\n",
       "       社会消费品零售总额（亿元）  \n",
       "count   3.100000e+01  \n",
       "mean   -4.440892e-16  \n",
       "std     1.000000e+00  \n",
       "min    -1.136158e+00  \n",
       "25%    -5.838667e-01  \n",
       "50%    -3.957706e-01  \n",
       "75%     4.112758e-01  \n",
       "max     3.078278e+00  "
      ]
     },
     "execution_count": 5,
     "metadata": {},
     "output_type": "execute_result"
    }
   ],
   "source": [
    "data2.describe()"
   ]
  },
  {
   "cell_type": "code",
   "execution_count": 6,
   "id": "c4462685",
   "metadata": {},
   "outputs": [
    {
     "data": {
      "text/plain": [
       "PCA()"
      ]
     },
     "execution_count": 6,
     "metadata": {},
     "output_type": "execute_result"
    }
   ],
   "source": [
    "#主成分分析\n",
    "from sklearn.decomposition import PCA \n",
    "pca1=PCA()\n",
    "pca1.fit(data2)"
   ]
  },
  {
   "cell_type": "code",
   "execution_count": 7,
   "id": "97bd69f5",
   "metadata": {},
   "outputs": [
    {
     "name": "stdout",
     "output_type": "stream",
     "text": [
      "[0.66051972 0.2951827  0.02127946 0.0158889  0.00433094 0.00279829]\n"
     ]
    }
   ],
   "source": [
    "#各个成分中各自方差百分比，贡献率\n",
    "rate=pca1.explained_variance_ratio_\n",
    "print(rate)"
   ]
  },
  {
   "cell_type": "code",
   "execution_count": 9,
   "id": "f60c9552",
   "metadata": {},
   "outputs": [
    {
     "data": {
      "text/plain": [
       "array([0.66051972, 0.95570242, 0.97698188, 0.99287078, 0.99720171,\n",
       "       1.        ])"
      ]
     },
     "execution_count": 9,
     "metadata": {},
     "output_type": "execute_result"
    }
   ],
   "source": [
    "cumsum_rate = npy.cumsum(rate) \n",
    "cumsum_rate"
   ]
  },
  {
   "cell_type": "code",
   "execution_count": 14,
   "id": "cbb481db",
   "metadata": {},
   "outputs": [
    {
     "data": {
      "image/png": "[encoded data removed]",
      "text/plain": [
       "<Figure size 432x288 with 1 Axes>"
      ]
     },
     "metadata": {
      "needs_background": "light"
     },
     "output_type": "display_data"
    }
   ],
   "source": [
    "import seaborn as sns\n",
    "import matplotlib.pyplot as plt\n",
    "ax = sns.lineplot(x=npy.arange(0,len(cumsum_rate)),y=cumsum_rate,label='Explained Variance Ratio')\n",
    "ax.set_title('Explained Variance Ratio Using {} Components'.format(6))\n",
    "ax = sns.lineplot(x=npy.arange(0,len(cumsum_rate)),y=rate,label='Explained Variance Of Component X')\n",
    "ax.set_xticks([i for i in range(0,len(cumsum_rate))])\n",
    "ax.set_xlabel('Component number #')\n",
    "ax.set_ylabel('Explained Variance')\n",
    "plt.show()"
   ]
  },
  {
   "cell_type": "code",
   "execution_count": 15,
   "id": "83c4d7dc",
   "metadata": {},
   "outputs": [
    {
     "name": "stdout",
     "output_type": "stream",
     "text": [
      "[[ 0.33671907  0.4904612   0.45028279  0.31790415  0.33840845  0.47721082]\n",
      " [ 0.54458599  0.04155156 -0.26397459 -0.54695826  0.54195386 -0.19783744]\n",
      " [ 0.04784206 -0.02734833  0.6461807  -0.66119669 -0.3673015   0.08557016]\n",
      " [-0.42204831  0.60806103 -0.41567987 -0.37545176 -0.07058003  0.36524196]\n",
      " [ 0.36879103 -0.43746873 -0.32260482 -0.03052716 -0.26794131  0.704142  ]\n",
      " [ 0.52309263  0.44255648 -0.18207057  0.14386323 -0.6165073  -0.31078977]]\n"
     ]
    }
   ],
   "source": [
    "#返回模型中各个特征量\n",
    "Characteristic=pca1.components_\n",
    "print(Characteristic)"
   ]
  },
  {
   "cell_type": "code",
   "execution_count": 18,
   "id": "48d913b6",
   "metadata": {},
   "outputs": [
    {
     "name": "stderr",
     "output_type": "stream",
     "text": [
      "<ipython-input-18-f40a26dac8e8>:3: FutureWarning: As the xlwt package is no longer maintained, the xlwt engine will be removed in a future version of pandas. This is the only engine in pandas that supports writing in the xls format. Install openpyxl and write to an xlsx file instead. You can set the option io.excel.xls.writer to 'xlwt' to silence this warning. While this option is deprecated and will also raise a warning, it can be globally set and the warning suppressed.\n",
      "  re.to_excel(\"D:/城市竞争力载荷矩阵.xls\")\n"
     ]
    }
   ],
   "source": [
    "#结果输出分析\n",
    "re = pda.DataFrame(Characteristic)\n",
    "re.to_excel(\"D:/城市竞争力载荷矩阵.xls\")"
   ]
  },
  {
   "cell_type": "code",
   "execution_count": 24,
   "id": "86815715",
   "metadata": {},
   "outputs": [
    {
     "name": "stdout",
     "output_type": "stream",
     "text": [
      "[[ 2.07324799  3.33793473]\n",
      " [-0.098847    2.44090614]\n",
      " [ 0.69467421 -1.11895146]\n",
      " [-0.77482757 -0.06644996]\n",
      " [-0.68952415  0.40234264]\n",
      " [ 0.91453376 -0.10619383]\n",
      " [-0.97864106  0.19099518]\n",
      " [-0.74005896 -0.07393028]\n",
      " [ 3.20400766  4.15417379]\n",
      " [ 3.83213621 -0.92840509]\n",
      " [ 2.82256195  0.4567543 ]\n",
      " [-0.43687776 -1.03444085]\n",
      " [ 0.02862671  0.45748214]\n",
      " [-1.0384462  -0.54897712]\n",
      " [ 3.79761776 -1.85623816]\n",
      " [ 1.09742029 -1.91424738]\n",
      " [ 0.01753672 -0.7610107 ]\n",
      " [-0.10041749 -0.88790094]\n",
      " [ 4.9381602  -0.94500481]\n",
      " [-1.00152051 -0.59264463]\n",
      " [-2.18690655  0.63021469]\n",
      " [-1.10735674  0.03770689]\n",
      " [ 0.44889243 -1.62389759]\n",
      " [-1.78708151 -0.53862567]\n",
      " [-1.14267949 -0.59860151]\n",
      " [-2.61324728  0.42799665]\n",
      " [-1.05011345 -0.37845078]\n",
      " [-1.91779567 -0.1219239 ]\n",
      " [-2.35695438  0.58985487]\n",
      " [-2.23522557  0.69456068]\n",
      " [-1.61289453  0.27497198]]\n"
     ]
    }
   ],
   "source": [
    "pca2=PCA(2)\n",
    "pca2.fit(data2)\n",
    "reduction=pca2.transform(data2)#降维\n",
    "print(reduction)\n",
    "\n",
    "#结果输出分析\n",
    "re = pda.DataFrame(reduction)\n",
    "re.to_excel(\"D:/城市竞争力主成分分析结果.xls\")"
   ]
  },
  {
   "cell_type": "code",
   "execution_count": null,
   "id": "45e22b26",
   "metadata": {},
   "outputs": [],
   "source": []
  }
 ],
 "metadata": {
  "kernelspec": {
   "display_name": "Python 3",
   "language": "python",
   "name": "python3"
  },
  "language_info": {
   "codemirror_mode": {
    "name": "ipython",
    "version": 3
   },
   "file_extension": ".py",
   "mimetype": "text/x-python",
   "name": "python",
   "nbconvert_exporter": "python",
   "pygments_lexer": "ipython3",
   "version": "3.8.8"
  }
 },
 "nbformat": 4,
 "nbformat_minor": 5
}
