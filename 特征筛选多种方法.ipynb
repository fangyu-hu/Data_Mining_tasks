{
 "cells": [
  {
   "cell_type": "markdown",
   "id": "7ad1b8ac",
   "metadata": {},
   "source": [
    "方差选择法"
   ]
  },
  {
   "cell_type": "code",
   "execution_count": 1,
   "id": "51ec3337",
   "metadata": {},
   "outputs": [
    {
     "name": "stdout",
     "output_type": "stream",
     "text": [
      "[[5.1 3.5 1.4 0.2]\n",
      " [4.9 3.  1.4 0.2]\n",
      " [4.7 3.2 1.3 0.2]\n",
      " [4.6 3.1 1.5 0.2]\n",
      " [5.  3.6 1.4 0.2]]\n"
     ]
    }
   ],
   "source": [
    "from sklearn.feature_selection import VarianceThreshold\n",
    "from sklearn.datasets import load_iris\n",
    "iris = load_iris()\n",
    "print(iris.data[0:5])\n"
   ]
  },
  {
   "cell_type": "code",
   "execution_count": 2,
   "id": "547f07f4",
   "metadata": {},
   "outputs": [
    {
     "name": "stdout",
     "output_type": "stream",
     "text": [
      "[[1.4]\n",
      " [1.4]\n",
      " [1.3]\n",
      " [1.5]\n",
      " [1.4]]\n",
      "[0.68112222 0.18871289 3.09550267 0.57713289]\n"
     ]
    }
   ],
   "source": [
    "#方差选择法，返回值为特征选择后的数据 \n",
    "#参数threshold为方差的阈值\n",
    "selector = VarianceThreshold(threshold=3).fit(iris.data, iris.target)\n",
    "data = selector.transform(iris.data)\n",
    "print(data[0:5])\n",
    "print(selector.variances_)\n"
   ]
  },
  {
   "cell_type": "markdown",
   "id": "6a0075f3",
   "metadata": {},
   "source": [
    "随机森林法"
   ]
  },
  {
   "cell_type": "code",
   "execution_count": 3,
   "id": "c655ce6b",
   "metadata": {},
   "outputs": [],
   "source": [
    "import pandas as pd\n",
    "from sklearn.model_selection import train_test_split\n",
    "from sklearn.ensemble import RandomForestClassifier\n",
    "import matplotlib.pyplot as plt\n",
    "import numpy as np \n",
    "from sklearn.datasets import load_iris"
   ]
  },
  {
   "cell_type": "code",
   "execution_count": 4,
   "id": "d80f47c1",
   "metadata": {},
   "outputs": [
    {
     "name": "stdout",
     "output_type": "stream",
     "text": [
      "['petal width (cm)', 'petal length (cm)', 'sepal length (cm)', 'sepal width (cm)']\n",
      "[0.10476017 0.02480179 0.42498016 0.44545788]\n"
     ]
    }
   ],
   "source": [
    "iris = load_iris()\n",
    "#将data分为特征和类标 x,y = data.ix[:,1:],data.ix[:,0] \n",
    "#将数据集分为训练集和测试集\n",
    "train_x,test_x,train_y,test_y = train_test_split(iris.data, iris.target,test_size=0.3,random_state=1)\n",
    "#定义一个由10000颗决策树组成的随机森林模型\n",
    "rf_model = RandomForestClassifier(n_estimators=100,random_state=0,n_jobs=-1)\n",
    "#训练\n",
    "rf_model.fit(train_x,train_y)\n",
    "#获取特征的重要性\n",
    "importances = rf_model.feature_importances_\n",
    "#对特征的重要性进行排序\n",
    "indices = np.argsort(importances)[::-1]\n",
    "names = [iris.feature_names[i] for i in indices]\n",
    "print(names)\n",
    "print(importances)"
   ]
  },
  {
   "cell_type": "markdown",
   "id": "6dea7ade",
   "metadata": {},
   "source": [
    "相关系数法"
   ]
  },
  {
   "cell_type": "code",
   "execution_count": 7,
   "id": "ec5b7a8e",
   "metadata": {},
   "outputs": [],
   "source": [
    "iris = load_iris()\n",
    "iris.df = pd.DataFrame(iris.data,columns=['petal width (cm)', 'petal length (cm)', 'sepal length (cm)', 'sepal width (cm)'])\n",
    "iris.tg= pd.DataFrame(iris.target,columns=['label'])"
   ]
  },
  {
   "cell_type": "code",
   "execution_count": 8,
   "id": "352b29da",
   "metadata": {},
   "outputs": [
    {
     "name": "stdout",
     "output_type": "stream",
     "text": [
      "     petal width (cm)  petal length (cm)  sepal length (cm)  sepal width (cm)  \\\n",
      "0                 5.1                3.5                1.4               0.2   \n",
      "1                 4.9                3.0                1.4               0.2   \n",
      "2                 4.7                3.2                1.3               0.2   \n",
      "3                 4.6                3.1                1.5               0.2   \n",
      "4                 5.0                3.6                1.4               0.2   \n",
      "..                ...                ...                ...               ...   \n",
      "145               6.7                3.0                5.2               2.3   \n",
      "146               6.3                2.5                5.0               1.9   \n",
      "147               6.5                3.0                5.2               2.0   \n",
      "148               6.2                3.4                5.4               2.3   \n",
      "149               5.9                3.0                5.1               1.8   \n",
      "\n",
      "     label  \n",
      "0        0  \n",
      "1        0  \n",
      "2        0  \n",
      "3        0  \n",
      "4        0  \n",
      "..     ...  \n",
      "145      2  \n",
      "146      2  \n",
      "147      2  \n",
      "148      2  \n",
      "149      2  \n",
      "\n",
      "[150 rows x 5 columns]\n"
     ]
    }
   ],
   "source": [
    "result = pd.concat([iris.df, iris.tg], axis=1) \n",
    "print(result)"
   ]
  },
  {
   "cell_type": "code",
   "execution_count": 10,
   "id": "6991654b",
   "metadata": {},
   "outputs": [
    {
     "name": "stdout",
     "output_type": "stream",
     "text": [
      "petal width (cm)     0.782561\n",
      "petal length (cm)   -0.426658\n",
      "sepal length (cm)    0.949035\n",
      "sepal width (cm)     0.956547\n",
      "label                1.000000\n",
      "Name: label, dtype: float64\n"
     ]
    }
   ],
   "source": [
    "corr = result.corr()\n",
    "corrlabel = corr['label']\n",
    "print(corrlabel)"
   ]
  },
  {
   "cell_type": "code",
   "execution_count": 12,
   "id": "8064f822",
   "metadata": {},
   "outputs": [
    {
     "data": {
      "text/plain": [
       "<bound method Series.sort_values of petal width (cm)     0.782561\n",
       "sepal length (cm)    0.949035\n",
       "sepal width (cm)     0.956547\n",
       "label                1.000000\n",
       "Name: label, dtype: float64>"
      ]
     },
     "execution_count": 12,
     "metadata": {},
     "output_type": "execute_result"
    }
   ],
   "source": [
    "corrlabel[abs(corrlabel)>0.5].sort_values"
   ]
  },
  {
   "cell_type": "code",
   "execution_count": null,
   "id": "50081701",
   "metadata": {},
   "outputs": [],
   "source": []
  }
 ],
 "metadata": {
  "kernelspec": {
   "display_name": "Python 3",
   "language": "python",
   "name": "python3"
  },
  "language_info": {
   "codemirror_mode": {
    "name": "ipython",
    "version": 3
   },
   "file_extension": ".py",
   "mimetype": "text/x-python",
   "name": "python",
   "nbconvert_exporter": "python",
   "pygments_lexer": "ipython3",
   "version": "3.8.8"
  }
 },
 "nbformat": 4,
 "nbformat_minor": 5
}
