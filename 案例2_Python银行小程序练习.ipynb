{
 "cells": [
  {
   "cell_type": "markdown",
   "id": "d9a99725",
   "metadata": {},
   "source": [
    "项目一：封装一个工资计算函数，用于计算实际工资，即工资减去应缴纳的税费。\n",
    "实际工资 = 工资 - 税。\n",
    "当工资大于10000元时，扣除10%的税。\n",
    "当工资大于5000元，小于等于10000元时，扣除5%的税。\n",
    "当工资小于等于5000元时，不扣税。\n",
    "将整个代码打包成函数。 将整个代码封装为一个函数func()，函数名可以自己设定，此后再应用这段代码时可以直接调用函数名func()，更改参数，直接得到结果。"
   ]
  },
  {
   "cell_type": "code",
   "execution_count": 1,
   "id": "5a71765c",
   "metadata": {},
   "outputs": [
    {
     "data": {
      "text/plain": [
       "7470.0"
      ]
     },
     "execution_count": 1,
     "metadata": {},
     "output_type": "execute_result"
    }
   ],
   "source": [
    "def salary_c(x):\n",
    "    if x >10000:\n",
    "        salary = x-(x-10000)*0.1\n",
    "    elif x >5000 and x <=10000:\n",
    "        salary = x-(x-5000)*0.05\n",
    "    else:\n",
    "        salary = x\n",
    "    return salary\n",
    "\n",
    "# x为参数，这里我们用x=7600举例\n",
    "salary_c(7600)"
   ]
  },
  {
   "cell_type": "markdown",
   "id": "52be3edf",
   "metadata": {},
   "source": [
    "项目二：银行账户系统小案例\n",
    "该项目是银行存取款系统的一个减缩版，能够实现已有账户的存款、取款、查询交易记录的功能，同时有账户密码保护功能（输入错误机会不能超过3次）。"
   ]
  },
  {
   "cell_type": "code",
   "execution_count": 2,
   "id": "c12d4460",
   "metadata": {},
   "outputs": [
    {
     "name": "stdout",
     "output_type": "stream",
     "text": [
      "请输入账户：李清\n",
      "请输入密码：2000\n",
      "请输入账户：李清\n",
      "请输入密码：864523\n",
      "登录成功！\n",
      "请选择操作：1.取款 2.存款 3.查看交易记录 4.退出登录\n",
      "请输入对应功能的序号：2\n",
      "请放入钞票:1000\n",
      "存款成功！余额为3000.0\n",
      "请输入对应功能的序号：4\n",
      "退出成功！\n"
     ]
    }
   ],
   "source": [
    "# 银行账户系统的一个打包函数\n",
    "\n",
    "def func():\n",
    "    # 账户与密码\n",
    "    dict_id = {'张瑶': '123456', '李清': '864523'}\n",
    "    # 账户与余额\n",
    "    dict_money = {'张瑶': 40000, '李清': 2000}\n",
    "    # 账户交易记录\n",
    "    dict_record = {'张瑶': [70000, -30000], '李清': [2000]}\n",
    "    \n",
    "    # 登录账户，账户与密码最多错误三次，num为机会次数\n",
    "    num = 3\n",
    "    # 判断是否有机会进入系统\n",
    "    while num > 0:\n",
    "        # 手动输入账户user_id与密码user_password\n",
    "        user_id = input('请输入账户：')\n",
    "        user_password = input('请输入密码：')\n",
    "        # 判断账户名是否存在并且密码是否输入正确\n",
    "        if user_id in dict_id.keys() and dict_id[user_id]==user_password:\n",
    "            # 输入正确，显示登录成功，显示可供选择的操作\n",
    "            print(\"登录成功！\")\n",
    "            print(\"请选择操作：1.取款 2.存款 3.查看交易记录 4.退出登录\")\n",
    "            # 判断是否还在登录状态\n",
    "            while True:\n",
    "                # 选择要进行的操作\n",
    "                func_num = input(\"请输入对应功能的序号：\")\n",
    "                # 当序号为1时，进行取款操作\n",
    "                if func_num == '1':\n",
    "                    # 输入取款金额\n",
    "                    money_num = float(input(\"请输入金额:\"))\n",
    "                    # 判断取款金额是否小于账户余额，即查看账户余额够不够取出\n",
    "                    if money_num < dict_money[user_id]:\n",
    "                        # 当“账户金额小于账户余额”条件满足，能被取出，此时余额变动，余额=余额-取出金额\n",
    "                        dict_money[user_id] -= money_num\n",
    "                        # 显示取款成功，并显示余额（format()函数用来填充会变化的余额数字）\n",
    "                        print(\"取款成功！余额为{}\".format(dict_money[user_id]))\n",
    "                        # 将交易记录存入记录dict_record\n",
    "                        dict_record[user_id].append(-money_num)\n",
    "                    else:\n",
    "                        # 当“账户金额小于账户余额”这个条件不满足的时候，显示'余额不足！'\n",
    "                        print('余额不足！')\n",
    "                # 当序号为2时，进行存款操作\n",
    "                elif func_num == '2':\n",
    "                    # 输入存款金额\n",
    "                    money_num = float(input(\"请放入钞票:\"))\n",
    "                    # 此时余额变动，余额=余额+取出金额\n",
    "                    dict_money[user_id] += money_num\n",
    "                    # 显示存款成功，并显示余额\n",
    "                    print(\"存款成功！余额为{}\".format(dict_money[user_id]))\n",
    "                    # 将交易记录存入记录dict_record\n",
    "                    dict_record[user_id].append(money_num)\n",
    "                # 当序号为3时，查看交易记录\n",
    "                elif func_num == '3':\n",
    "                    print(dict_record[user_id])\n",
    "                # 当序号为4时，退出登录\n",
    "                elif func_num == '4':\n",
    "                    print('退出成功！')\n",
    "                    # break是跳出系统\n",
    "                    break\n",
    "                # 当序号不存在时，显示“输入错误！自动退出登录。”\n",
    "                else:\n",
    "                    print('输入错误！自动退出登录。')\n",
    "                    # 输入序号错误，也跳出系统\n",
    "                    break\n",
    "            # break是跳出系统，即退出登录状态\n",
    "            break\n",
    "        # 当账户user_id与密码user_password输入错误时，机会减少一次\n",
    "        else:\n",
    "            num -= 1\n",
    "\n",
    "# 调用银行账户系统函数            \n",
    "func()"
   ]
  },
  {
   "cell_type": "code",
   "execution_count": null,
   "id": "bac367be",
   "metadata": {},
   "outputs": [],
   "source": []
  }
 ],
 "metadata": {
  "kernelspec": {
   "display_name": "Python 3",
   "language": "python",
   "name": "python3"
  },
  "language_info": {
   "codemirror_mode": {
    "name": "ipython",
    "version": 3
   },
   "file_extension": ".py",
   "mimetype": "text/x-python",
   "name": "python",
   "nbconvert_exporter": "python",
   "pygments_lexer": "ipython3",
   "version": "3.8.8"
  }
 },
 "nbformat": 4,
 "nbformat_minor": 5
}
